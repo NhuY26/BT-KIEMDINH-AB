{
  "cells": [
    {
      "cell_type": "markdown",
      "metadata": {
        "id": "view-in-github",
        "colab_type": "text"
      },
      "source": [
        "<a href=\"https://colab.research.google.com/github/NhuY26/BT-KIEMDINH-AB/blob/main/TL_DO_AN_PYTHON.ipynb\" target=\"_parent\"><img src=\"https://colab.research.google.com/assets/colab-badge.svg\" alt=\"Open In Colab\"/></a>"
      ]
    },
    {
      "cell_type": "markdown",
      "metadata": {
        "id": "zLDJXkTiG1nn"
      },
      "source": [
        "KIỂM ĐỊNH F\n",
        "\n",
        "Thay vì xây dựng giả thuyết với giá trị trung bình, người ta có thể xây dựng giả thuyết với phương sai (variance $\\sigma^{2}$). Trong trường hợp này, chúng ta sử dụng kiểm định F. Tóm tắt về kiểm định F như sau:\n",
        "\n",
        "Kiểm định một đuôi:\n",
        "\n",
        "$$H_{0}: \\sigma^{2} = \\sigma_{0}^{2} $$\n",
        "\n",
        "$$H_{a}: \\sigma^{2} < \\sigma_{0}^{2} (H_{a}: \\sigma^{2} > \\sigma_{0}^{2})$$ \n",
        "\n",
        "Giá trị thống kê kiểm định:\n",
        "\n",
        "$$ \\chi^{2} = \\frac{(n-1)s^{2}}{\\sigma_{0}^{2}}$$\n",
        "\n",
        "Vùng bác bỏ: $\\chi^{2} < \\chi_{(1 - \\alpha)}^{2}$  hoặc $\\chi^{2} > \\chi_{(1 - \\alpha)}^{2}$  khi $H_{a}: \\sigma^{2} > \\sigma_{0}^{2}$\n",
        "\n",
        "Ghi chú: \n",
        "\n",
        "- $\\chi^{2}$ - chi-square\n",
        "- (n - 1) mức tự do\n",
        "\n"
      ]
    },
    {
      "cell_type": "markdown",
      "metadata": {
        "id": "Reh5q3sRG1n0"
      },
      "source": [
        "Kiểm định 2 đuôi:\n",
        "\n",
        "$$H_{0}: \\sigma^{2} = \\sigma_{0}^{2}$$\n",
        "$$H_{a}:\\sigma^{2} \\neq \\sigma_{0}^{2} $$\n",
        "\n",
        "Giá trị thống kê kiểm định:\n",
        "\n",
        "$$ \\chi^{2} = \\frac{(n-1)s^{2}}{\\sigma_{0}^{2}}$$\n",
        "\n",
        "Vùng bác bỏ: $\\chi^{2} < \\chi_{(1 - \\alpha/2)}^{2}$  hoặc $\\chi^{2} > \\chi_{(\\alpha/2)}^{2}$  \n",
        "Ghi chú: \n",
        "\n",
        "- $\\chi^{2}$ - chi-square\n",
        "- (n - 1) mức tự do"
      ]
    },
    {
      "cell_type": "markdown",
      "metadata": {
        "id": "u2gWsE2vG1n2"
      },
      "source": [
        "THỰC HÀNH KIỂM ĐỊNH F\n",
        "\n",
        "Bước 1: Sinh ngẫu nhiên số liệu\n",
        "\n",
        "Bước 2: Xây dựng giả thuyết \n",
        "\n",
        "Bước 3: Kiểm định Bartlett "
      ]
    },
    {
      "cell_type": "code",
      "execution_count": null,
      "metadata": {
        "id": "xWihUqpNG1n3",
        "outputId": "1b0f45bb-1b06-4bef-9796-8f20d7b71510",
        "colab": {
          "base_uri": "https://localhost:8080/"
        }
      },
      "outputs": [
        {
          "output_type": "stream",
          "name": "stderr",
          "text": [
            "/usr/local/lib/python3.7/dist-packages/statsmodels/tools/_testing.py:19: FutureWarning: pandas.util.testing is deprecated. Use the functions in the public API at pandas.testing instead.\n",
            "  import pandas.util.testing as tm\n"
          ]
        }
      ],
      "source": [
        "import numpy as np\n",
        "import pandas as pd\n",
        "import random\n",
        "from scipy import stats\n",
        "from statsmodels.stats.weightstats import ztest\n",
        "import warnings\n",
        "import matplotlib.pyplot as plt\n",
        "import seaborn as sns\n",
        "%matplotlib inline"
      ]
    },
    {
      "cell_type": "code",
      "execution_count": null,
      "metadata": {
        "id": "UG7ChdSTG1n5"
      },
      "outputs": [],
      "source": [
        "#Sinh ngẫu nhiên 1000 mẫu tuân theo phân phối chuẩn có trung bình mẫu là 7.5 và độ lệch chuẩn là 0.25\n",
        "\n",
        "mean_1 = 7.5\n",
        "std_1 = 0.25\n",
        "N_1 = 1000\n",
        "samples_1 = np.random.normal(mean_1, std_1, N_1)"
      ]
    },
    {
      "cell_type": "code",
      "execution_count": null,
      "metadata": {
        "id": "cx1va9tWG1n6",
        "outputId": "e5926beb-e447-4a13-9dc4-9313e6d9f6a8",
        "colab": {
          "base_uri": "https://localhost:8080/"
        }
      },
      "outputs": [
        {
          "output_type": "stream",
          "name": "stdout",
          "text": [
            "[7.66109559 7.77212228 7.27875177 7.53350422 7.60801382 7.58552203\n",
            " 7.60955361 7.50419381 7.33159984 7.12649352]\n"
          ]
        }
      ],
      "source": [
        "#In ra 10 phần tử đầu tiên\n",
        "\n",
        "print(samples_1[:10])"
      ]
    },
    {
      "cell_type": "code",
      "execution_count": null,
      "metadata": {
        "id": "80FkZsDuG1n7"
      },
      "outputs": [],
      "source": [
        "#Sinh ngẫu nhiên 900 mẫu tuân theo phân phối chuẩn có trung bình mẫu là 7 và độ lệch chuẩn là 0.2\n",
        "\n",
        "mean_2= 7\n",
        "std_2 = 0.2\n",
        "N_2 = 900\n",
        "samples_2 = np.random.normal(mean_2, std_2, N_2)"
      ]
    },
    {
      "cell_type": "code",
      "execution_count": null,
      "metadata": {
        "id": "Q_7vwCYPG1n8",
        "outputId": "0989b0db-d245-4425-d55c-7162a75dd3e9",
        "colab": {
          "base_uri": "https://localhost:8080/"
        }
      },
      "outputs": [
        {
          "output_type": "stream",
          "name": "stdout",
          "text": [
            "[7.20678426 7.21264516 7.23658448 6.97024158 7.32767149 6.95072954\n",
            " 7.02411438 6.94091668 7.08669357 7.16752399]\n"
          ]
        }
      ],
      "source": [
        "#In ra 10 phần tử đầu tiên\n",
        "\n",
        "print(samples_2[:10])"
      ]
    },
    {
      "cell_type": "markdown",
      "metadata": {
        "id": "wm451JJ9G1n9"
      },
      "source": [
        "Xây dựng giả thuyết:\n",
        "$$H_{0}: \\sigma_{1}^{2} = \\sigma_{2}^{2}$$\n",
        "$$H_{a}: \\sigma_{1}^{2} \\neq \\sigma_{2}^{2}$$"
      ]
    },
    {
      "cell_type": "code",
      "execution_count": null,
      "metadata": {
        "id": "e_SiEEDnG1n-",
        "outputId": "77da0841-9555-4ce6-b6f6-e411f87efbd1",
        "colab": {
          "base_uri": "https://localhost:8080/"
        }
      },
      "outputs": [
        {
          "output_type": "stream",
          "name": "stdout",
          "text": [
            "Stat value:  34.64028080126716 ; p-value:  3.96613825763306e-09\n"
          ]
        }
      ],
      "source": [
        "#Kiểm định Bartlett\n",
        "\n",
        "stat_value, p_value = stats.bartlett(samples_1, samples_2)\n",
        "print(\"Stat value: \", stat_value, \"; p-value: \", p_value)"
      ]
    },
    {
      "cell_type": "code",
      "execution_count": null,
      "metadata": {
        "id": "jIpUnFfKG1n-",
        "outputId": "42d21782-a989-4af8-c5ed-6b08a2d8e9f5",
        "colab": {
          "base_uri": "https://localhost:8080/"
        }
      },
      "outputs": [
        {
          "output_type": "stream",
          "name": "stdout",
          "text": [
            "Có bằng chứng để bác bỏ giả thuyết H0\n"
          ]
        }
      ],
      "source": [
        "alpha = 0.05\n",
        "if(p_value <  alpha):\n",
        "  print(\"Có bằng chứng để bác bỏ giả thuyết H0\")\n",
        "else:\n",
        "  print(\"Chưa có bằng chứng để bác bỏ giả thuyết H0\")"
      ]
    },
    {
      "cell_type": "markdown",
      "metadata": {
        "id": "QX-QvajxG1n_"
      },
      "source": [
        "BÀI TẬP\n",
        "\n",
        "Bạn hãy thử viết code tiến hành kiểm định F 1 đuôi?\n",
        "\n",
        "Gợi ý: Thử tìm kiếm ví dụ về kiểm dịnh F 1 đuôi trong ngôn ngữ lập trình Python & R để nhận thấy sự khác biệt."
      ]
    },
    {
      "cell_type": "markdown",
      "source": [
        "Xây dựng giả thuyết:\n",
        "$$H_0: σ_1^2 = σ_2^2$$\n",
        "Giả thuyết thay thế:\n",
        "$$H_1: σ_1^2 > σ_2^2$$\n"
      ],
      "metadata": {
        "id": "ZcohSQ2gBCpl"
      }
    },
    {
      "cell_type": "code",
      "source": [
        "# Sinh ngẫu nhiên mẫu thứ 1:\n",
        "\n",
        "sample_1= np.random.normal(24.6,4.2,40)\n",
        "print(sample_1)"
      ],
      "metadata": {
        "id": "4vfOJLdqvUFk",
        "outputId": "3e5fe4a6-5874-4cd5-d538-8706e7a3867b",
        "colab": {
          "base_uri": "https://localhost:8080/"
        }
      },
      "execution_count": null,
      "outputs": [
        {
          "output_type": "stream",
          "name": "stdout",
          "text": [
            "[24.03400842 30.51928156 27.63500318 31.69950172 31.29888447 32.1429069\n",
            " 26.81461258 31.86893769 24.26131026 28.27390237 25.3179078  22.82185926\n",
            " 24.62521167 32.19698155 19.63702822 17.63056441 23.28802096 29.12566597\n",
            " 23.91585279 25.83368146 25.79521974 24.92951428 16.54453849 26.88265503\n",
            " 22.30870845 26.01695517 24.47232791 22.21436086 23.35509126 21.14838668\n",
            " 27.99037329 26.97044863 23.50447102 29.93508837 26.19627843 25.19599904\n",
            " 33.93699366 17.30919291 25.27945498 27.12087331]\n"
          ]
        }
      ]
    },
    {
      "cell_type": "code",
      "source": [
        "# Sinh ngẫu nhiên mẫu thứ 2:\n",
        "\n",
        "sample_2 = np.random.normal(25.5,5.1,40)\n",
        "print(sample_2)"
      ],
      "metadata": {
        "id": "TZfT4-5DzeRT",
        "outputId": "c49b39a4-b7c2-4942-efcf-4909d1e737ae",
        "colab": {
          "base_uri": "https://localhost:8080/"
        }
      },
      "execution_count": null,
      "outputs": [
        {
          "output_type": "stream",
          "name": "stdout",
          "text": [
            "[24.57140394 28.2408235  23.57021233 27.2613075  25.37438459 31.59795891\n",
            " 27.66032244 20.1374606  26.46826102 32.26067814 27.17701282 25.1519888\n",
            " 36.4503111  23.50327298 29.41257121 10.77882341 31.70424651 29.26438456\n",
            " 25.76585021 32.63511812 20.87801622 21.32362665 21.04670866 35.54944159\n",
            " 20.03753988 28.55532084 20.48428754 30.91812564 29.59496407 21.91993424\n",
            " 22.22476316 29.94277236 13.97785692 32.06286167 27.42279259 23.76259563\n",
            " 27.24913014 23.22760691 30.47440761 30.3124261 ]\n"
          ]
        }
      ]
    },
    {
      "cell_type": "code",
      "source": [
        "# Xác định thông số:\n",
        "sig = 0.05"
      ],
      "metadata": {
        "id": "JSgRCjVLziBI"
      },
      "execution_count": null,
      "outputs": []
    },
    {
      "cell_type": "code",
      "execution_count": null,
      "metadata": {
        "id": "1Z8v_vnNG1n_"
      },
      "outputs": [],
      "source": [
        "# Ta viết hàm f_test:\n",
        "\n",
        "def f_test(sample_1, sample_2, type_test, sig):\n",
        "    df1 = len(sample_1) - 1\n",
        "    df2 = len(sample_2) - 1\n",
        "    f_stat = sample_1.var() / sample_2.var()\n",
        "    if type_test == \"smaller\":\n",
        "        p_value = stats.f.cdf(f_stat, df1, df2)\n",
        "    elif type_test == \"larger\":\n",
        "        p_value = 1.0 - stats.f.cdf(f_stat, df1, df2)\n",
        "    else:\n",
        "        p_value = 2.0*(1.0 - stats.f.cdf(f_stat, df1, df2))\n",
        "\n",
        "# Kiểm định giả thuyết\n",
        "\n",
        "    if p_value < sig:\n",
        "      print(\"Có bằng chứng để bác bỏ giả thuyết H0\")\n",
        "    else:\n",
        "      print(\"Chưa có bằng chứng để bác bỏ giả thuyết H0\")"
      ]
    },
    {
      "cell_type": "code",
      "source": [
        "# Tiến hành f_test:\n",
        "\n",
        "f_test(sample_1, sample_2, \"larger\", sig)"
      ],
      "metadata": {
        "id": "rrlj7pSS0MIf",
        "outputId": "b255369b-1918-4d83-9c6e-2867f682c772",
        "colab": {
          "base_uri": "https://localhost:8080/"
        }
      },
      "execution_count": null,
      "outputs": [
        {
          "output_type": "stream",
          "name": "stdout",
          "text": [
            "Chưa có bằng chứng để bác bỏ giả thuyết H0\n"
          ]
        }
      ]
    }
  ],
  "metadata": {
    "kernelspec": {
      "display_name": "Python 3",
      "language": "python",
      "name": "python3"
    },
    "language_info": {
      "codemirror_mode": {
        "name": "ipython",
        "version": 3
      },
      "file_extension": ".py",
      "mimetype": "text/x-python",
      "name": "python",
      "nbconvert_exporter": "python",
      "pygments_lexer": "ipython3",
      "version": "3.7.3"
    },
    "colab": {
      "name": "TL DO AN PYTHON.ipynb",
      "provenance": [],
      "include_colab_link": true
    }
  },
  "nbformat": 4,
  "nbformat_minor": 0
}